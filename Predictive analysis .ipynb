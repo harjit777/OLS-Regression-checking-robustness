{
 "cells": [
  {
   "cell_type": "code",
   "execution_count": 1,
   "id": "40ba8a67",
   "metadata": {},
   "outputs": [],
   "source": [
    "import pandas as pd\n",
    "import numpy as np\n",
    "import matplotlib.pyplot as plt\n",
    "import statsmodels.formula.api as smf\n",
    "import statsmodels.stats.api as sms\n",
    "from statsmodels.stats.diagnostic import het_white\n",
    "from statsmodels.compat import lzip \n",
    "import statsmodels.api as sm"
   ]
  },
  {
   "cell_type": "code",
   "execution_count": 2,
   "id": "46fd122e",
   "metadata": {},
   "outputs": [
    {
     "data": {
      "text/html": [
       "<div>\n",
       "<style scoped>\n",
       "    .dataframe tbody tr th:only-of-type {\n",
       "        vertical-align: middle;\n",
       "    }\n",
       "\n",
       "    .dataframe tbody tr th {\n",
       "        vertical-align: top;\n",
       "    }\n",
       "\n",
       "    .dataframe thead th {\n",
       "        text-align: right;\n",
       "    }\n",
       "</style>\n",
       "<table border=\"1\" class=\"dataframe\">\n",
       "  <thead>\n",
       "    <tr style=\"text-align: right;\">\n",
       "      <th></th>\n",
       "      <th>Date</th>\n",
       "      <th>GDP</th>\n",
       "      <th>FDI</th>\n",
       "      <th>FII Debt</th>\n",
       "      <th>FII Equity</th>\n",
       "      <th>Exports</th>\n",
       "      <th>Imports</th>\n",
       "      <th>Interst rate ind</th>\n",
       "    </tr>\n",
       "  </thead>\n",
       "  <tbody>\n",
       "    <tr>\n",
       "      <th>0</th>\n",
       "      <td>9/30/2022</td>\n",
       "      <td>38165.78</td>\n",
       "      <td>1686.0</td>\n",
       "      <td>509.72</td>\n",
       "      <td>-903.08</td>\n",
       "      <td>35445.42</td>\n",
       "      <td>61158.43</td>\n",
       "      <td>6.15</td>\n",
       "    </tr>\n",
       "    <tr>\n",
       "      <th>1</th>\n",
       "      <td>6/30/2022</td>\n",
       "      <td>36851.25</td>\n",
       "      <td>4773.0</td>\n",
       "      <td>-181.02</td>\n",
       "      <td>-6436.60</td>\n",
       "      <td>40133.73</td>\n",
       "      <td>66311.89</td>\n",
       "      <td>5.15</td>\n",
       "    </tr>\n",
       "    <tr>\n",
       "      <th>2</th>\n",
       "      <td>3/31/2022</td>\n",
       "      <td>40780.25</td>\n",
       "      <td>4307.0</td>\n",
       "      <td>-740.96</td>\n",
       "      <td>-5384.94</td>\n",
       "      <td>42224.01</td>\n",
       "      <td>60738.85</td>\n",
       "      <td>4.25</td>\n",
       "    </tr>\n",
       "    <tr>\n",
       "      <th>3</th>\n",
       "      <td>12/31/2021</td>\n",
       "      <td>38218.78</td>\n",
       "      <td>2249.0</td>\n",
       "      <td>-1561.77</td>\n",
       "      <td>-2524.78</td>\n",
       "      <td>37806.99</td>\n",
       "      <td>59484.94</td>\n",
       "      <td>4.25</td>\n",
       "    </tr>\n",
       "    <tr>\n",
       "      <th>4</th>\n",
       "      <td>9/30/2021</td>\n",
       "      <td>35891.78</td>\n",
       "      <td>4276.0</td>\n",
       "      <td>1741.96</td>\n",
       "      <td>1792.22</td>\n",
       "      <td>33814.61</td>\n",
       "      <td>56286.42</td>\n",
       "      <td>4.25</td>\n",
       "    </tr>\n",
       "  </tbody>\n",
       "</table>\n",
       "</div>"
      ],
      "text/plain": [
       "         Date       GDP     FDI  FII Debt  FII Equity   Exports   Imports  \\\n",
       "0   9/30/2022  38165.78  1686.0    509.72     -903.08  35445.42  61158.43   \n",
       "1   6/30/2022  36851.25  4773.0   -181.02    -6436.60  40133.73  66311.89   \n",
       "2   3/31/2022  40780.25  4307.0   -740.96    -5384.94  42224.01  60738.85   \n",
       "3  12/31/2021  38218.78  2249.0  -1561.77    -2524.78  37806.99  59484.94   \n",
       "4   9/30/2021  35891.78  4276.0   1741.96     1792.22  33814.61  56286.42   \n",
       "\n",
       "   Interst rate ind  \n",
       "0              6.15  \n",
       "1              5.15  \n",
       "2              4.25  \n",
       "3              4.25  \n",
       "4              4.25  "
      ]
     },
     "execution_count": 2,
     "metadata": {},
     "output_type": "execute_result"
    }
   ],
   "source": [
    "df11=pd.read_csv('predictive data with interest rate.csv')\n",
    "df11.head()"
   ]
  },
  {
   "cell_type": "code",
   "execution_count": 3,
   "id": "82e3fe19",
   "metadata": {},
   "outputs": [
    {
     "data": {
      "image/png": "[encoded data removed]",
      "text/plain": [
       "<Figure size 432x288 with 1 Axes>"
      ]
     },
     "metadata": {
      "needs_background": "light"
     },
     "output_type": "display_data"
    }
   ],
   "source": [
    "plt.figure(1)\n",
    "plt.hist(df11['GDP'], 20, edgecolor='black', linewidth=1.2)\n",
    "plt.xlabel('GDP')\n",
    "plt.ylabel('Density')\n",
    "plt.title('GDP Distribution')\n",
    "plt.show()"
   ]
  },
  {
   "cell_type": "code",
   "execution_count": null,
   "id": "8f184d23",
   "metadata": {},
   "outputs": [],
   "source": [
    "### Converting data into log"
   ]
  },
  {
   "cell_type": "code",
   "execution_count": 4,
   "id": "e74cc694",
   "metadata": {},
   "outputs": [],
   "source": [
    "df_log11 = df11[['GDP','FDI','Exports','Imports']].applymap(lambda x: np.log(x+1))"
   ]
  },
  {
   "cell_type": "code",
   "execution_count": 5,
   "id": "ce0dcdd4",
   "metadata": {},
   "outputs": [
    {
     "data": {
      "text/html": [
       "<div>\n",
       "<style scoped>\n",
       "    .dataframe tbody tr th:only-of-type {\n",
       "        vertical-align: middle;\n",
       "    }\n",
       "\n",
       "    .dataframe tbody tr th {\n",
       "        vertical-align: top;\n",
       "    }\n",
       "\n",
       "    .dataframe thead th {\n",
       "        text-align: right;\n",
       "    }\n",
       "</style>\n",
       "<table border=\"1\" class=\"dataframe\">\n",
       "  <thead>\n",
       "    <tr style=\"text-align: right;\">\n",
       "      <th></th>\n",
       "      <th>GDP</th>\n",
       "      <th>FDI</th>\n",
       "      <th>Exports</th>\n",
       "      <th>Imports</th>\n",
       "    </tr>\n",
       "  </thead>\n",
       "  <tbody>\n",
       "    <tr>\n",
       "      <th>96</th>\n",
       "      <td>8.972175</td>\n",
       "      <td>5.707110</td>\n",
       "      <td>7.922232</td>\n",
       "      <td>8.211268</td>\n",
       "    </tr>\n",
       "    <tr>\n",
       "      <th>97</th>\n",
       "      <td>9.046701</td>\n",
       "      <td>5.730100</td>\n",
       "      <td>7.760855</td>\n",
       "      <td>8.002982</td>\n",
       "    </tr>\n",
       "    <tr>\n",
       "      <th>98</th>\n",
       "      <td>9.107838</td>\n",
       "      <td>5.749393</td>\n",
       "      <td>8.130354</td>\n",
       "      <td>8.241967</td>\n",
       "    </tr>\n",
       "    <tr>\n",
       "      <th>99</th>\n",
       "      <td>9.107471</td>\n",
       "      <td>5.739793</td>\n",
       "      <td>8.100768</td>\n",
       "      <td>8.256088</td>\n",
       "    </tr>\n",
       "    <tr>\n",
       "      <th>100</th>\n",
       "      <td>NaN</td>\n",
       "      <td>NaN</td>\n",
       "      <td>NaN</td>\n",
       "      <td>NaN</td>\n",
       "    </tr>\n",
       "  </tbody>\n",
       "</table>\n",
       "</div>"
      ],
      "text/plain": [
       "          GDP       FDI   Exports   Imports\n",
       "96   8.972175  5.707110  7.922232  8.211268\n",
       "97   9.046701  5.730100  7.760855  8.002982\n",
       "98   9.107838  5.749393  8.130354  8.241967\n",
       "99   9.107471  5.739793  8.100768  8.256088\n",
       "100       NaN       NaN       NaN       NaN"
      ]
     },
     "execution_count": 5,
     "metadata": {},
     "output_type": "execute_result"
    }
   ],
   "source": [
    "df_log11.tail()"
   ]
  },
  {
   "cell_type": "code",
   "execution_count": 6,
   "id": "1f90dbfd",
   "metadata": {},
   "outputs": [],
   "source": [
    "df_normal=df11['Interst rate ind']"
   ]
  },
  {
   "cell_type": "code",
   "execution_count": 7,
   "id": "b6a0c554",
   "metadata": {},
   "outputs": [
    {
     "data": {
      "text/plain": [
       "0    6.15\n",
       "1    5.15\n",
       "2    4.25\n",
       "3    4.25\n",
       "4    4.25\n",
       "Name: Interst rate ind, dtype: float64"
      ]
     },
     "execution_count": 7,
     "metadata": {},
     "output_type": "execute_result"
    }
   ],
   "source": [
    "df_normal.head()"
   ]
  },
  {
   "cell_type": "code",
   "execution_count": null,
   "id": "00d2167a",
   "metadata": {},
   "outputs": [],
   "source": [
    "#### combing and filtiring the data "
   ]
  },
  {
   "cell_type": "code",
   "execution_count": 8,
   "id": "76565d4f",
   "metadata": {},
   "outputs": [],
   "source": [
    "df_log22=pd.concat([df_log11,df_normal],axis=1)"
   ]
  },
  {
   "cell_type": "code",
   "execution_count": 9,
   "id": "ed68bc7e",
   "metadata": {},
   "outputs": [
    {
     "data": {
      "text/html": [
       "<div>\n",
       "<style scoped>\n",
       "    .dataframe tbody tr th:only-of-type {\n",
       "        vertical-align: middle;\n",
       "    }\n",
       "\n",
       "    .dataframe tbody tr th {\n",
       "        vertical-align: top;\n",
       "    }\n",
       "\n",
       "    .dataframe thead th {\n",
       "        text-align: right;\n",
       "    }\n",
       "</style>\n",
       "<table border=\"1\" class=\"dataframe\">\n",
       "  <thead>\n",
       "    <tr style=\"text-align: right;\">\n",
       "      <th></th>\n",
       "      <th>GDP</th>\n",
       "      <th>FDI</th>\n",
       "      <th>Exports</th>\n",
       "      <th>Imports</th>\n",
       "      <th>Interst rate ind</th>\n",
       "    </tr>\n",
       "  </thead>\n",
       "  <tbody>\n",
       "    <tr>\n",
       "      <th>0</th>\n",
       "      <td>10.549721</td>\n",
       "      <td>7.430707</td>\n",
       "      <td>10.475778</td>\n",
       "      <td>11.021239</td>\n",
       "      <td>6.15</td>\n",
       "    </tr>\n",
       "    <tr>\n",
       "      <th>1</th>\n",
       "      <td>10.514672</td>\n",
       "      <td>8.470940</td>\n",
       "      <td>10.599997</td>\n",
       "      <td>11.102140</td>\n",
       "      <td>5.15</td>\n",
       "    </tr>\n",
       "    <tr>\n",
       "      <th>2</th>\n",
       "      <td>10.615978</td>\n",
       "      <td>8.368229</td>\n",
       "      <td>10.650768</td>\n",
       "      <td>11.014355</td>\n",
       "      <td>4.25</td>\n",
       "    </tr>\n",
       "    <tr>\n",
       "      <th>3</th>\n",
       "      <td>10.551108</td>\n",
       "      <td>7.718685</td>\n",
       "      <td>10.540276</td>\n",
       "      <td>10.993495</td>\n",
       "      <td>4.25</td>\n",
       "    </tr>\n",
       "    <tr>\n",
       "      <th>4</th>\n",
       "      <td>10.488291</td>\n",
       "      <td>8.361007</td>\n",
       "      <td>10.428678</td>\n",
       "      <td>10.938226</td>\n",
       "      <td>4.25</td>\n",
       "    </tr>\n",
       "  </tbody>\n",
       "</table>\n",
       "</div>"
      ],
      "text/plain": [
       "         GDP       FDI    Exports    Imports  Interst rate ind\n",
       "0  10.549721  7.430707  10.475778  11.021239              6.15\n",
       "1  10.514672  8.470940  10.599997  11.102140              5.15\n",
       "2  10.615978  8.368229  10.650768  11.014355              4.25\n",
       "3  10.551108  7.718685  10.540276  10.993495              4.25\n",
       "4  10.488291  8.361007  10.428678  10.938226              4.25"
      ]
     },
     "execution_count": 9,
     "metadata": {},
     "output_type": "execute_result"
    }
   ],
   "source": [
    "df_log22.head()"
   ]
  },
  {
   "cell_type": "code",
   "execution_count": null,
   "id": "c1cb87b8",
   "metadata": {},
   "outputs": [],
   "source": [
    "### cleaning the data"
   ]
  },
  {
   "cell_type": "code",
   "execution_count": 10,
   "id": "95f9ca97",
   "metadata": {},
   "outputs": [
    {
     "data": {
      "text/plain": [
       "1"
      ]
     },
     "execution_count": 10,
     "metadata": {},
     "output_type": "execute_result"
    }
   ],
   "source": [
    "df_log22['Interst rate ind'].isna().sum()"
   ]
  },
  {
   "cell_type": "code",
   "execution_count": 11,
   "id": "1c2d55dc",
   "metadata": {},
   "outputs": [],
   "source": [
    "df_log22=df_log22.ffill()"
   ]
  },
  {
   "cell_type": "code",
   "execution_count": 12,
   "id": "97e453da",
   "metadata": {},
   "outputs": [
    {
     "data": {
      "image/png": "[encoded data removed]",
      "text/plain": [
       "<Figure size 432x288 with 1 Axes>"
      ]
     },
     "metadata": {
      "needs_background": "light"
     },
     "output_type": "display_data"
    }
   ],
   "source": [
    "plt.figure(1)\n",
    "plt.hist(df_log22['GDP'], 20, edgecolor='black', linewidth=1.2)\n",
    "plt.xlabel('GDP')\n",
    "plt.ylabel('Density')\n",
    "plt.title('GDP Distribution')\n",
    "plt.show()"
   ]
  },
  {
   "cell_type": "code",
   "execution_count": 13,
   "id": "3da876cf",
   "metadata": {},
   "outputs": [
    {
     "data": {
      "image/png": "[encoded data removed]",
      "text/plain": [
       "<Figure size 432x288 with 1 Axes>"
      ]
     },
     "metadata": {
      "needs_background": "light"
     },
     "output_type": "display_data"
    }
   ],
   "source": [
    "plt.figure(1)\n",
    "plt.hist(df_log22['FDI'], 20, edgecolor='black', linewidth=1.2)\n",
    "plt.xlabel('FDI')\n",
    "plt.ylabel('Density')\n",
    "plt.title('FDI Distribution')\n",
    "plt.show()"
   ]
  },
  {
   "cell_type": "code",
   "execution_count": 14,
   "id": "fa8d1952",
   "metadata": {},
   "outputs": [
    {
     "data": {
      "image/png": "[encoded data removed]",
      "text/plain": [
       "<Figure size 432x288 with 1 Axes>"
      ]
     },
     "metadata": {
      "needs_background": "light"
     },
     "output_type": "display_data"
    },
    {
     "data": {
      "image/png": "[encoded data removed]",
      "text/plain": [
       "<Figure size 432x288 with 1 Axes>"
      ]
     },
     "metadata": {
      "needs_background": "light"
     },
     "output_type": "display_data"
    },
    {
     "data": {
      "image/png": "[encoded data removed]",
      "text/plain": [
       "<Figure size 432x288 with 1 Axes>"
      ]
     },
     "metadata": {
      "needs_background": "light"
     },
     "output_type": "display_data"
    }
   ],
   "source": [
    "\n",
    "plt.figure(1)\n",
    "plt.hist(df_log22['Imports'], 20, edgecolor='black', linewidth=1.2)\n",
    "plt.xlabel('Imports')\n",
    "plt.ylabel('Density')\n",
    "plt.title('Imports Distribution')\n",
    "plt.show()\n",
    "\n",
    "\n",
    "plt.figure(1)\n",
    "plt.hist(df_log22['Exports'], 20, edgecolor='black', linewidth=1.2)\n",
    "plt.xlabel('Exports')\n",
    "plt.ylabel('Density')\n",
    "plt.title('Exports Distribution')\n",
    "plt.show()\n",
    "\n",
    "plt.figure(1)\n",
    "plt.hist(df_log22['Interst rate ind'], 20, edgecolor='black', linewidth=1.2)\n",
    "plt.xlabel('Interst rate ind')\n",
    "plt.ylabel('Density')\n",
    "plt.title('Interst rate ind Distribution')\n",
    "plt.show()"
   ]
  },
  {
   "cell_type": "code",
   "execution_count": 15,
   "id": "ea33a676",
   "metadata": {},
   "outputs": [
    {
     "name": "stdout",
     "output_type": "stream",
     "text": [
      "---------------------------------Scatter Plots:Log Wage against Other variables ----------------\n"
     ]
    },
    {
     "data": {
      "image/png": "[encoded data removed]",
      "text/plain": [
       "<Figure size 432x288 with 1 Axes>"
      ]
     },
     "metadata": {
      "needs_background": "light"
     },
     "output_type": "display_data"
    },
    {
     "data": {
      "image/png": "[encoded data removed]",
      "text/plain": [
       "<Figure size 432x288 with 1 Axes>"
      ]
     },
     "metadata": {
      "needs_background": "light"
     },
     "output_type": "display_data"
    },
    {
     "data": {
      "image/png": "[encoded data removed]",
      "text/plain": [
       "<Figure size 432x288 with 1 Axes>"
      ]
     },
     "metadata": {
      "needs_background": "light"
     },
     "output_type": "display_data"
    },
    {
     "data": {
      "image/png": "[encoded data removed]",
      "text/plain": [
       "<Figure size 432x288 with 1 Axes>"
      ]
     },
     "metadata": {
      "needs_background": "light"
     },
     "output_type": "display_data"
    },
    {
     "name": "stdout",
     "output_type": "stream",
     "text": [
      "---------------------------------End of Scatter Plots ---------------------------\n"
     ]
    }
   ],
   "source": [
    "print (\"---------------------------------Scatter Plots:Log Wage against Other variables ----------------\")\n",
    "\n",
    "plt.figure(2)\n",
    "plt.scatter(df_log22['FDI'], df_log22['GDP'], color='black') \n",
    "\n",
    "# optional: adding fitted line \n",
    "m, b = np.polyfit(df_log22['FDI'], df_log22['GDP'], 1)  # m = slope, b=intercept\n",
    "plt.plot(df_log22['FDI'], m*df_log22['FDI'] + b, color='red')\n",
    "\n",
    "# end of option\n",
    "\n",
    "\n",
    "plt.xlabel('FDI')\n",
    "plt.ylabel('GDP')\n",
    "plt.title('Scatter Plot:GDP vs FDI')\n",
    "plt.show()\n",
    "\n",
    "\n",
    "\n",
    "\n",
    "\n",
    "# optional: adding fitted line \n",
    "m, b\n",
    "\n",
    "\n",
    "plt.figure(4)\n",
    "plt.scatter(df_log22['Exports'], df_log22['GDP'], color='black') \n",
    "\n",
    "# optional: adding fitted line \n",
    "m, b = np.polyfit(df_log22['Exports'], df_log22['GDP'], 1)  # m = slope, b=intercept\n",
    "plt.plot(df_log22['Exports'], m*df_log22['Exports'] + b, color='red')\n",
    "\n",
    "# end of option\n",
    "\n",
    "\n",
    "plt.xlabel('Exports')\n",
    "plt.ylabel('GDP')\n",
    "plt.title('Scatter Plot: GDP vs Exports')\n",
    "plt.show()\n",
    "\n",
    "\n",
    "plt.figure(5)\n",
    "plt.scatter(df_log22['Imports'], df_log22['GDP'], color='black') \n",
    "\n",
    "# optional: adding fitted line \n",
    "m, b = np.polyfit(df_log22['Imports'], df_log22['GDP'], 1)  # m = slope, b=intercept\n",
    "plt.plot(df_log22['Imports'], m*df_log22['Imports'] + b, color='red')\n",
    "\n",
    "# end of option\n",
    "\n",
    "\n",
    "plt.xlabel('Imports')\n",
    "plt.ylabel('GDP')\n",
    "plt.title('Scatter Plot: GDP vs Imports')\n",
    "plt.show()\n",
    "\n",
    "plt.figure(5)\n",
    "plt.scatter(df_log22['Interst rate ind'], df_log22['GDP'], color='black') \n",
    "\n",
    "# optional: adding fitted line \n",
    "m, b = np.polyfit(df_log22['Interst rate ind'], df_log22['GDP'], 1)  # m = slope, b=intercept\n",
    "plt.plot(df_log22['Interst rate ind'], m*df_log22['Interst rate ind'] + b, color='red')\n",
    "\n",
    "# end of option\n",
    "\n",
    "\n",
    "plt.xlabel('Interst rate ind')\n",
    "plt.ylabel('GDP')\n",
    "plt.title('Scatter Plot: GDP vs Imports')\n",
    "plt.show()\n",
    "\n",
    "print (\"---------------------------------End of Scatter Plots ---------------------------\")\n"
   ]
  },
  {
   "cell_type": "code",
   "execution_count": 16,
   "id": "4542240f",
   "metadata": {},
   "outputs": [
    {
     "data": {
      "image/png": "[encoded data removed]",
      "text/plain": [
       "<Figure size 432x288 with 1 Axes>"
      ]
     },
     "metadata": {
      "needs_background": "light"
     },
     "output_type": "display_data"
    }
   ],
   "source": [
    "plt.figure(2)\n",
    "plt.scatter(df_log22[''], df_log22['GDP'], color='black') \n",
    "\n",
    "# optional: adding fitted line \n",
    "m, b = np.polyfit(df_log22['FDI'], df_log22['GDP'], 1)  # m = slope, b=intercept\n",
    "plt.plot(df_log22['FDI'], m*df_log22['FDI'] + b, color='red')\n",
    "\n",
    "# end of option\n",
    "\n",
    "\n",
    "plt.xlabel('FDI')\n",
    "plt.ylabel('GDP')\n",
    "plt.title('Scatter Plot:GDP vs FDI')\n",
    "plt.show()\n"
   ]
  },
  {
   "cell_type": "code",
   "execution_count": 53,
   "id": "9f0fb85a",
   "metadata": {},
   "outputs": [
    {
     "name": "stdout",
     "output_type": "stream",
     "text": [
      "******************* Linear Regression Output **********************************\n",
      "                            OLS Regression Results                            \n",
      "==============================================================================\n",
      "Dep. Variable:                    GDP   R-squared:                       0.726\n",
      "Model:                            OLS   Adj. R-squared:                  0.720\n",
      "Method:                 Least Squares   F-statistic:                     129.8\n",
      "Date:                Wed, 11 Jan 2023   Prob (F-statistic):           2.84e-28\n",
      "Time:                        17:34:58   Log-Likelihood:                -5.8131\n",
      "No. Observations:                 101   AIC:                             17.63\n",
      "Df Residuals:                      98   BIC:                             25.47\n",
      "Df Model:                           2                                         \n",
      "Covariance Type:            nonrobust                                         \n",
      "=========================================================================================\n",
      "                            coef    std err          t      P>|t|      [0.025      0.975]\n",
      "-----------------------------------------------------------------------------------------\n",
      "Intercept                 7.9151      0.218     36.378      0.000       7.483       8.347\n",
      "FDI                       0.3389      0.023     14.989      0.000       0.294       0.384\n",
      "Q(\"Interst rate ind\")    -0.0684      0.019     -3.692      0.000      -0.105      -0.032\n",
      "==============================================================================\n",
      "Omnibus:                       19.963   Durbin-Watson:                   1.147\n",
      "Prob(Omnibus):                  0.000   Jarque-Bera (JB):               52.102\n",
      "Skew:                           0.638   Prob(JB):                     4.86e-12\n",
      "Kurtosis:                       6.279   Cond. No.                         83.4\n",
      "==============================================================================\n",
      "\n",
      "Notes:\n",
      "[1] Standard Errors assume that the covariance matrix of the errors is correctly specified.\n",
      "*******************************************************************************\n"
     ]
    }
   ],
   "source": [
    "# Next is running a linear regression using OLS estimator\n",
    "\n",
    "# The linear regression is used only on two varaibles for now. We will extend the analysis later\n",
    "# The point here is to learn how to run regression and interpret Python output\n",
    "# The equation: wage=b_0+b_1*educ+b_2*hours+u\n",
    "\n",
    "\n",
    "formula='GDP ~   FDI+ Q(\"Interst rate ind\") '  # linear equation, the first variable is dependent and the rest are explanator\n",
    "# Please pay atte)nting to the wording used to describe educ and hours: they are explanatory and not independent. \n",
    "# the latter requires very strong assumptions to confirm. In our case, we do not know.\n",
    "\n",
    "results=smf.ols(formula, df_log22).fit()  # the OLS library, we called the output 'results'\n",
    "\n",
    "\n",
    "print('******************* Linear Regression Output **********************************')\n",
    "\n",
    "print(results.summary())\n",
    "\n",
    "print('*******************************************************************************')\n",
    "\n"
   ]
  },
  {
   "cell_type": "code",
   "execution_count": 54,
   "id": "e9c2baba",
   "metadata": {
    "scrolled": true
   },
   "outputs": [
    {
     "name": "stdout",
     "output_type": "stream",
     "text": [
      "---------------------------------Plot of Residuals ---------------------------\n",
      "Use the plot to visually inspect the presence of autocorrelation\n"
     ]
    },
    {
     "data": {
      "image/png": "[encoded data removed]",
      "text/plain": [
       "<Figure size 432x288 with 1 Axes>"
      ]
     },
     "metadata": {
      "needs_background": "light"
     },
     "output_type": "display_data"
    },
    {
     "name": "stdout",
     "output_type": "stream",
     "text": [
      "The plot of residuals shows a random patterns across individuals. This may suggest the presence of no autocorrelation\n",
      "---------------------------------End of Plot of Residuals ---------------------------\n"
     ]
    }
   ],
   "source": [
    "# Let's now learn about the properties of the residuals\n",
    "# Begin with plotting residuals \n",
    "# The plot of residuals against observations will help to detect the presence of autocorrelation in the data\n",
    "\n",
    "print (\"---------------------------------Plot of Residuals ---------------------------\")\n",
    "print (\"Use the plot to visually inspect the presence of autocorrelation\")\n",
    "plt.figure(1)\n",
    "plt.plot(results.resid) \n",
    "plt.xlabel('Observations')\n",
    "plt.ylabel('Residuals')\n",
    "plt.title('Line Plot of Residuals')\n",
    "plt.grid(True) # I have added this for me to be able to accurately see the graph\n",
    "plt.show()\n",
    "\n",
    "print(\"The plot of residuals shows a random patterns across individuals. This may suggest the presence of no autocorrelation\")\n",
    "print (\"---------------------------------End of Plot of Residuals ---------------------------\")\n"
   ]
  },
  {
   "cell_type": "code",
   "execution_count": 20,
   "id": "88e8551c",
   "metadata": {},
   "outputs": [
    {
     "name": "stdout",
     "output_type": "stream",
     "text": [
      "2.2688122008181417e-15\n",
      "---------------------------------White Test------------------------------------------\n",
      "[('LM Stat', 40.896184172427276), ('pvalue', 5.22431007307252e-06), ('f-value', 6.879860396453885), ('f pvalue', 1.6931180549222528e-07)]\n",
      "--------------------------------- End of White Test------------------------------------------\n"
     ]
    }
   ],
   "source": [
    "#Inspecting heteroskedacitiy formally using the white test\n",
    "\n",
    "mean_resid=results.resid.mean()\n",
    "print(mean_resid)\n",
    "\n",
    "\n",
    "\n",
    "print (\"---------------------------------White Test------------------------------------------\")\n",
    "\n",
    "# White test for heteroskedasticity\n",
    "name=['LM Stat', 'pvalue', 'f-value', 'f pvalue' ]\n",
    "white_test =sms.het_white(results.resid,results.model.exog)  # make sure you have the right library\n",
    "\n",
    "print(lzip(name,white_test))\n",
    "\n",
    "     \n",
    "print (\"--------------------------------- End of White Test------------------------------------------\")\n",
    "\n",
    "# If there is heteroskedasticity, then we need to correct it. The previous regression is incorrect\n",
    "# because it is based on the wrong aussmption about the errors and therefore the t statistics are\n",
    "# incorrect.\n",
    "\n",
    "# White Robust Standard Errors\n"
   ]
  },
  {
   "cell_type": "code",
   "execution_count": 50,
   "id": "577bddbd",
   "metadata": {},
   "outputs": [
    {
     "name": "stdout",
     "output_type": "stream",
     "text": [
      "******************* Linear Regression Output **********************************\n",
      "                            OLS Regression Results                            \n",
      "==============================================================================\n",
      "Dep. Variable:                    GDP   R-squared:                       0.726\n",
      "Model:                            OLS   Adj. R-squared:                  0.720\n",
      "Method:                 Least Squares   F-statistic:                     133.2\n",
      "Date:                Wed, 11 Jan 2023   Prob (F-statistic):           1.14e-28\n",
      "Time:                        17:33:39   Log-Likelihood:                -5.8131\n",
      "No. Observations:                 101   AIC:                             17.63\n",
      "Df Residuals:                      98   BIC:                             25.47\n",
      "Df Model:                           2                                         \n",
      "Covariance Type:                  HC1                                         \n",
      "=========================================================================================\n",
      "                            coef    std err          z      P>|z|      [0.025      0.975]\n",
      "-----------------------------------------------------------------------------------------\n",
      "Intercept                 7.9151      0.361     21.918      0.000       7.207       8.623\n",
      "FDI                       0.3389      0.033     10.282      0.000       0.274       0.404\n",
      "Q(\"Interst rate ind\")    -0.0684      0.023     -2.970      0.003      -0.114      -0.023\n",
      "==============================================================================\n",
      "Omnibus:                       19.963   Durbin-Watson:                   1.147\n",
      "Prob(Omnibus):                  0.000   Jarque-Bera (JB):               52.102\n",
      "Skew:                           0.638   Prob(JB):                     4.86e-12\n",
      "Kurtosis:                       6.279   Cond. No.                         83.4\n",
      "==============================================================================\n",
      "\n",
      "Notes:\n",
      "[1] Standard Errors are heteroscedasticity robust (HC1)\n",
      "*******************************************************************************\n"
     ]
    }
   ],
   "source": [
    "# Restimate the model using White Robust Standard Errors\n",
    "\n",
    "formula='GDP ~   FDI + Q(\"Interst rate ind\")'  # linear equation, the first variable is dependent and the rest are explanatory\n",
    "# Please the wording used to describe variables: they are explanatory and not independent. \n",
    "# the latter requires very strong assumptions to confirm. In our case, we do not know.\n",
    "\n",
    "results1=smf.ols(formula, df_log22).fit(cov_type='HC1')  # the OLS library, we called the output 'results'\n",
    "\n",
    "print('******************* Linear Regression Output **********************************')\n",
    "\n",
    "print(results1.summary())\n",
    "\n",
    "print('*******************************************************************************')\n"
   ]
  },
  {
   "cell_type": "code",
   "execution_count": 22,
   "id": "54f706ae",
   "metadata": {},
   "outputs": [
    {
     "name": "stdout",
     "output_type": "stream",
     "text": [
      "---------------------------------BG Test------------------------------------------\n",
      "[('LM Stat', 72.87807699123718), ('pvalue', 1.3791162207098926e-17), ('f-value', 248.78438750361124), ('f pvalue', 2.116296873466396e-28)]\n",
      "--------------------------------- End of BG Test------------------------------------------\n"
     ]
    }
   ],
   "source": [
    "# Testing for autocorrelation using Breusch-Godfrey test\n",
    "   \n",
    "print (\"---------------------------------BG Test------------------------------------------\")\n",
    "\n",
    "# Breusch Godfrey Test\n",
    "name=['LM Stat', 'pvalue', 'f-value', 'f pvalue' ]\n",
    "bg_test =sms.acorr_breusch_godfrey(results, nlags=1, store=False)  # make sure you have the right library\n",
    "\n",
    "print(lzip(name,bg_test))\n",
    "\n",
    "     \n",
    "print (\"--------------------------------- End of BG Test------------------------------------------\")\n",
    "\n"
   ]
  },
  {
   "cell_type": "code",
   "execution_count": 52,
   "id": "f01df4fd",
   "metadata": {},
   "outputs": [
    {
     "name": "stdout",
     "output_type": "stream",
     "text": [
      "******************* Linear Regression Output **********************************\n",
      "                            OLS Regression Results                            \n",
      "==============================================================================\n",
      "Dep. Variable:                    GDP   R-squared:                       0.726\n",
      "Model:                            OLS   Adj. R-squared:                  0.720\n",
      "Method:                 Least Squares   F-statistic:                     99.65\n",
      "Date:                Wed, 11 Jan 2023   Prob (F-statistic):           2.42e-24\n",
      "Time:                        17:34:21   Log-Likelihood:                -5.8131\n",
      "No. Observations:                 101   AIC:                             17.63\n",
      "Df Residuals:                      98   BIC:                             25.47\n",
      "Df Model:                           2                                         \n",
      "Covariance Type:                  HAC                                         \n",
      "=========================================================================================\n",
      "                            coef    std err          z      P>|z|      [0.025      0.975]\n",
      "-----------------------------------------------------------------------------------------\n",
      "Intercept                 7.9151      0.369     21.476      0.000       7.193       8.637\n",
      "FDI                       0.3389      0.034      9.895      0.000       0.272       0.406\n",
      "Q(\"Interst rate ind\")    -0.0684      0.025     -2.777      0.005      -0.117      -0.020\n",
      "==============================================================================\n",
      "Omnibus:                       19.963   Durbin-Watson:                   1.147\n",
      "Prob(Omnibus):                  0.000   Jarque-Bera (JB):               52.102\n",
      "Skew:                           0.638   Prob(JB):                     4.86e-12\n",
      "Kurtosis:                       6.279   Cond. No.                         83.4\n",
      "==============================================================================\n",
      "\n",
      "Notes:\n",
      "[1] Standard Errors are heteroscedasticity and autocorrelation robust (HAC) using 1 lags and with small sample correction\n",
      "*******************************************************************************\n"
     ]
    }
   ],
   "source": [
    "formula='GDP ~  FDI + Q(\"Interst rate ind\") '  # linear equation, the first variable is dependent and the rest are explanatory\n",
    "# Please the wording used to describe educ and hours: they are explanatory and not independent. \n",
    "# the latter requires very strong assumptions to confirm. In our case, we do not know.\n",
    "\n",
    "results2=smf.ols(formula, df_log22).fit(cov_type='HAC',cov_kwds={'maxlags':1, 'use_correction':True})  # the OLS library, we called the output 'results'\n",
    "\n",
    "print('******************* Linear Regression Output **********************************')\n",
    "\n",
    "print(results2.summary())\n",
    "\n",
    "print('*******************************************************************************')\n",
    "\n"
   ]
  },
  {
   "cell_type": "code",
   "execution_count": 24,
   "id": "74eaf09e",
   "metadata": {},
   "outputs": [],
   "source": [
    "import seaborn as sns\n",
    "import matplotlib.pyplot as plt"
   ]
  },
  {
   "cell_type": "code",
   "execution_count": null,
   "id": "aeac5ffd",
   "metadata": {},
   "outputs": [],
   "source": [
    "## checking correlation "
   ]
  },
  {
   "cell_type": "code",
   "execution_count": 25,
   "id": "8cdb8d35",
   "metadata": {},
   "outputs": [
    {
     "data": {
      "text/plain": [
       "<AxesSubplot:>"
      ]
     },
     "execution_count": 25,
     "metadata": {},
     "output_type": "execute_result"
    },
    {
     "data": {
      "image/png": "[encoded data removed]",
      "text/plain": [
       "<Figure size 432x288 with 2 Axes>"
      ]
     },
     "metadata": {
      "needs_background": "light"
     },
     "output_type": "display_data"
    }
   ],
   "source": [
    "sns.heatmap(df_log22.corr(),annot=True)"
   ]
  }
 ],
 "metadata": {
  "kernelspec": {
   "display_name": "Python 3",
   "language": "python",
   "name": "python3"
  },
  "language_info": {
   "codemirror_mode": {
    "name": "ipython",
    "version": 3
   },
   "file_extension": ".py",
   "mimetype": "text/x-python",
   "name": "python",
   "nbconvert_exporter": "python",
   "pygments_lexer": "ipython3",
   "version": "3.8.8"
  }
 },
 "nbformat": 4,
 "nbformat_minor": 5
}
